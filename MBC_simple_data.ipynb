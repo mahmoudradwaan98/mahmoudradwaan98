{
  "nbformat": 4,
  "nbformat_minor": 0,
  "metadata": {
    "colab": {
      "name": "MBC_simple_data.ipynb",
      "provenance": [],
      "include_colab_link": true
    },
    "kernelspec": {
      "name": "python3",
      "display_name": "Python 3"
    },
    "language_info": {
      "name": "python"
    }
  },
  "cells": [
    {
      "cell_type": "markdown",
      "metadata": {
        "id": "view-in-github",
        "colab_type": "text"
      },
      "source": [
        "<a href=\"https://colab.research.google.com/github/mahmoudradwaan98/mahmoudradwaan98/blob/main/MBC_simple_data.ipynb\" target=\"_parent\"><img src=\"https://colab.research.google.com/assets/colab-badge.svg\" alt=\"Open In Colab\"/></a>"
      ]
    },
    {
      "cell_type": "code",
      "source": [
        "import numpy as np\n",
        "import matplotlib.pyplot as plt\n",
        "from sklearn import svm\n",
        "from sklearn.preprocessing import MultiLabelBinarizer"
      ],
      "metadata": {
        "id": "_6nb4KYP8_El"
      },
      "execution_count": null,
      "outputs": []
    },
    {
      "cell_type": "code",
      "source": [
        "def getAccuracy(model, x, y):\n",
        "  return model.score(x,y)*100"
      ],
      "metadata": {
        "id": "jaHTKVku-yKy"
      },
      "execution_count": null,
      "outputs": []
    },
    {
      "cell_type": "code",
      "source": [
        "X = np.array([[1.3, 3.3],\n",
        "             [1.4, 2.5],\n",
        "             [1.8, 2.8],\n",
        "             [1.9, 3.1],\n",
        "             [1.5, 1.5],\n",
        "             [1.8, 2],\n",
        "             [2.3, 1.9],\n",
        "             [2.6, 1.4],\n",
        "             [2.4, 2.2],\n",
        "             [2.4, 3],\n",
        "             [2.7, 2.7],\n",
        "             [2, 3.2]])"
      ],
      "metadata": {
        "id": "a0D779tg8CtV"
      },
      "execution_count": null,
      "outputs": []
    },
    {
      "cell_type": "code",
      "source": [
        "y = np.array([1, 1, 1, 1, 2, 2, 2, 2, 3, 3, 3, 3])"
      ],
      "metadata": {
        "id": "y_dQTnCd9JET"
      },
      "execution_count": null,
      "outputs": []
    },
    {
      "cell_type": "code",
      "source": [
        "y"
      ],
      "metadata": {
        "colab": {
          "base_uri": "https://localhost:8080/"
        },
        "id": "N3r2C7oWqNiP",
        "outputId": "ddf6fe58-44ac-4448-ef43-cbab36f91fce"
      },
      "execution_count": null,
      "outputs": [
        {
          "output_type": "execute_result",
          "data": {
            "text/plain": [
              "array([1, 1, 1, 1, 2, 2, 2, 2, 3, 3, 3, 3])"
            ]
          },
          "metadata": {},
          "execution_count": 86
        }
      ]
    },
    {
      "cell_type": "code",
      "source": [
        "model = svm.SVC(kernel='linear', decision_function_shape='ovo', C=200)\n",
        "model.fit(X, y)\n",
        "print('Accuracy of model: {:.2f}%'.format(getAccuracy(model, X, y)))"
      ],
      "metadata": {
        "colab": {
          "base_uri": "https://localhost:8080/"
        },
        "id": "CZ3g_nak-fUj",
        "outputId": "b994f61f-d60d-4fae-d332-a61b012f72eb"
      },
      "execution_count": null,
      "outputs": [
        {
          "output_type": "stream",
          "name": "stdout",
          "text": [
            "Accuracy of model: 100.00%\n"
          ]
        }
      ]
    },
    {
      "cell_type": "code",
      "source": [
        "plt.scatter(X[y == 1,0], X[y == 1,1], c='r', marker='o', label=1)\n",
        "plt.scatter(X[y == 2,0], X[y == 2,1], c='b', marker='*', label=2)\n",
        "plt.scatter(X[y == 3,0], X[y == 3,1], c='g', marker='+', label=3)\n",
        "\n",
        "\n",
        "x_min, x_max = X[:, 0].min() - 1, X[:, 0].max() + 1\n",
        "y_min, y_max = X[:, 1].min() - 1, X[:, 1].max() + 1\n",
        "xx, yy = np.meshgrid(np.arange(x_min, x_max, 0.01), np.arange(y_min, y_max, 0.01))\n",
        "\n",
        "z = model.predict(np.c_[xx.ravel(), yy.ravel()])\n",
        "Z= z.reshape(xx.shape)\n",
        "plt.contourf(xx, yy, Z, alpha=0.5)\n",
        "\n",
        "\n",
        "\n",
        "plt.title('SVM Decision Surface')\n",
        "plt.legend()\n",
        "plt.show()"
      ],
      "metadata": {
        "colab": {
          "base_uri": "https://localhost:8080/",
          "height": 281
        },
        "id": "JuVIkb439cBD",
        "outputId": "1902a5e5-90ad-41f0-c5ce-c2d0856b6a7d"
      },
      "execution_count": null,
      "outputs": [
        {
          "output_type": "display_data",
          "data": {
            "text/plain": [
              "<Figure size 432x288 with 1 Axes>"
            ],
            "image/png": "[encoded data removed]"
          },
          "metadata": {
            "needs_background": "light"
          }
        }
      ]
    },
    {
      "cell_type": "markdown",
      "source": [
        "## ***Multiple Binary Classifier***"
      ],
      "metadata": {
        "id": "AkZNhKNboYK0"
      }
    },
    {
      "cell_type": "code",
      "source": [
        "yb = y.reshape((-1,1))\n",
        "yb"
      ],
      "metadata": {
        "id": "Mmzkng0WBRpE",
        "colab": {
          "base_uri": "https://localhost:8080/"
        },
        "outputId": "3b02189d-9356-4874-9147-a91ecd2fc414"
      },
      "execution_count": null,
      "outputs": [
        {
          "output_type": "execute_result",
          "data": {
            "text/plain": [
              "array([[1],\n",
              "       [1],\n",
              "       [1],\n",
              "       [1],\n",
              "       [2],\n",
              "       [2],\n",
              "       [2],\n",
              "       [2],\n",
              "       [3],\n",
              "       [3],\n",
              "       [3],\n",
              "       [3]])"
            ]
          },
          "metadata": {},
          "execution_count": 89
        }
      ]
    },
    {
      "cell_type": "code",
      "source": [
        "mlb = MultiLabelBinarizer()\n",
        "yb = mlb.fit_transform(yb)\n",
        "yb"
      ],
      "metadata": {
        "id": "B3PQPRj6AWK8",
        "colab": {
          "base_uri": "https://localhost:8080/"
        },
        "outputId": "1ea2c1f1-9b90-4248-83a3-2dd5d59cd209"
      },
      "execution_count": null,
      "outputs": [
        {
          "output_type": "execute_result",
          "data": {
            "text/plain": [
              "array([[1, 0, 0],\n",
              "       [1, 0, 0],\n",
              "       [1, 0, 0],\n",
              "       [1, 0, 0],\n",
              "       [0, 1, 0],\n",
              "       [0, 1, 0],\n",
              "       [0, 1, 0],\n",
              "       [0, 1, 0],\n",
              "       [0, 0, 1],\n",
              "       [0, 0, 1],\n",
              "       [0, 0, 1],\n",
              "       [0, 0, 1]])"
            ]
          },
          "metadata": {},
          "execution_count": 90
        }
      ]
    },
    {
      "cell_type": "code",
      "source": [
        "yb1 = yb[:,0]\n",
        "yb2 = yb[:,1]\n",
        "yb3 = yb[:,2]"
      ],
      "metadata": {
        "id": "f9cb_CtmBkI5"
      },
      "execution_count": null,
      "outputs": []
    },
    {
      "cell_type": "code",
      "source": [
        "clf_1 = svm.SVC(kernel='linear', probability=True)\n",
        "clf_1.fit(X, yb1)\n",
        "print('Accuracy of clf_1: {:.2f}%'.format(getAccuracy(clf_1, X, yb1)))\n",
        "yb1_pred = clf_1.predict_proba(X)[:,1].reshape(-1,1)"
      ],
      "metadata": {
        "colab": {
          "base_uri": "https://localhost:8080/"
        },
        "id": "Pv8qgKOA_ISC",
        "outputId": "e628e9a9-7c81-46c7-e660-48368d870070"
      },
      "execution_count": null,
      "outputs": [
        {
          "output_type": "stream",
          "name": "stdout",
          "text": [
            "Accuracy of clf_1: 83.33%\n"
          ]
        }
      ]
    },
    {
      "cell_type": "code",
      "source": [
        "clf_2 = svm.SVC(kernel='linear', probability=True)\n",
        "clf_2.fit(X, yb2)\n",
        "print('Accuracy of clf_2: {:.2f}%'.format(getAccuracy(clf_2, X, yb2)))\n",
        "yb2_pred = clf_2.predict_proba(X)[:,1].reshape(-1,1)"
      ],
      "metadata": {
        "colab": {
          "base_uri": "https://localhost:8080/"
        },
        "id": "33xwmiOTCPlS",
        "outputId": "5236741f-ffb7-4ba3-adde-2c3008f5efc4"
      },
      "execution_count": null,
      "outputs": [
        {
          "output_type": "stream",
          "name": "stdout",
          "text": [
            "Accuracy of clf_2: 100.00%\n"
          ]
        }
      ]
    },
    {
      "cell_type": "code",
      "source": [
        "clf_3 = svm.SVC(kernel='linear', probability=True)\n",
        "clf_3.fit(X, yb3)\n",
        "print('Accuracy of clf_3: {:.2f}%'.format(getAccuracy(clf_3, X, yb3)))\n",
        "yb3_pred = clf_3.predict_proba(X)[:,1].reshape(-1,1)"
      ],
      "metadata": {
        "colab": {
          "base_uri": "https://localhost:8080/"
        },
        "id": "Mi3E1x31CdsE",
        "outputId": "2b335b6b-3c72-42f7-e226-cd36842fe9e1"
      },
      "execution_count": null,
      "outputs": [
        {
          "output_type": "stream",
          "name": "stdout",
          "text": [
            "Accuracy of clf_3: 83.33%\n"
          ]
        }
      ]
    },
    {
      "cell_type": "code",
      "source": [
        "yb_all = np.hstack((yb1_pred, yb2_pred, yb3_pred))\n",
        "yb_all"
      ],
      "metadata": {
        "colab": {
          "base_uri": "https://localhost:8080/"
        },
        "id": "tQ0NIB_JSG23",
        "outputId": "1b205d08-cb77-4caa-c6ac-e5ec0df79e08"
      },
      "execution_count": null,
      "outputs": [
        {
          "output_type": "execute_result",
          "data": {
            "text/plain": [
              "array([[0.65499531, 0.05847771, 0.26145522],\n",
              "       [0.43411289, 0.28121483, 0.16093872],\n",
              "       [0.39080283, 0.14929944, 0.30531367],\n",
              "       [0.43270887, 0.07749832, 0.4009428 ],\n",
              "       [0.2027595 , 0.80592878, 0.0793243 ],\n",
              "       [0.22534316, 0.54162082, 0.17193849],\n",
              "       [0.12680129, 0.57394234, 0.27274529],\n",
              "       [0.06103968, 0.80596726, 0.26145547],\n",
              "       [0.14760304, 0.39255482, 0.36467663],\n",
              "       [0.27565552, 0.0873279 , 0.54672182],\n",
              "       [0.16531728, 0.15491415, 0.57894213],\n",
              "       [0.42764493, 0.06083423, 0.45682619]])"
            ]
          },
          "metadata": {},
          "execution_count": 95
        }
      ]
    },
    {
      "cell_type": "code",
      "source": [
        "m = mlb.classes_[np.argmax(yb_all, axis=1)]\n",
        "m.reshape((-1,1))"
      ],
      "metadata": {
        "colab": {
          "base_uri": "https://localhost:8080/"
        },
        "id": "tvm_10rIUAGx",
        "outputId": "b0bbbcc1-f568-49da-84df-975343f6d128"
      },
      "execution_count": null,
      "outputs": [
        {
          "output_type": "execute_result",
          "data": {
            "text/plain": [
              "array([[1],\n",
              "       [1],\n",
              "       [1],\n",
              "       [1],\n",
              "       [2],\n",
              "       [2],\n",
              "       [2],\n",
              "       [2],\n",
              "       [2],\n",
              "       [3],\n",
              "       [3],\n",
              "       [3]], dtype=object)"
            ]
          },
          "metadata": {},
          "execution_count": 96
        }
      ]
    }
  ]
}